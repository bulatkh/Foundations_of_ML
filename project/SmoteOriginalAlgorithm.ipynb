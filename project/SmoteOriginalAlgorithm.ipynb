{
 "cells": [
  {
   "cell_type": "code",
   "execution_count": null,
   "metadata": {},
   "outputs": [],
   "source": [
    "from sklearn.neighbors import NearestNeighbors\n",
    "import numpy as np\n",
    "import random\n",
    "class Smote:\n",
    "    #last column of samples is the label(0 or 1)\n",
    "    def __init__(self, samples, N=10,k=5):\n",
    "        self.n_samples, self.n_attrs=samples.shape\n",
    "        self.N=N\n",
    "        self.k=k\n",
    "        self.samples=samples\n",
    "\n",
    "    def over_sampling(self):\n",
    "        if self.N<100:\n",
    "            old_n_samples=self.n_samples\n",
    "            print \"old_n_samples\", old_n_samples\n",
    "            self.n_samples=int(float(self.N)/100*old_n_samples)\n",
    "            print \"n_samples\", self.n_samples\n",
    "            keep=np.random.permutation(old_n_samples)[:self.n_samples]\n",
    "            print \"keep\", keep\n",
    "            new_samples=self.samples[keep]\n",
    "            print \"new_samples\", new_samples\n",
    "            self.samples=new_samples\n",
    "            print \"self.samples\", self.samples\n",
    "            self.N=100\n",
    "\n",
    "        N=int(self.N/100) \n",
    "        #the number of new samples that each minority class should synthesize \n",
    "        self.synthetic=np.zeros((self.n_samples*N, self.n_attrs))\n",
    "        self.new_index=0\n",
    "\n",
    "        neighbors=NearestNeighbors(n_neighbors=self.k).fit(self.samples)\n",
    "        print \"neighbors\", neighbors\n",
    "        for i in range(len(self.samples)):\n",
    "            nnarray=neighbors.kneighbors(self.samples[i],return_distance=False)[0]\n",
    "            #store the index of k-neighbors\n",
    "            self.__populate(N, i, nnarray )\n",
    "        return self.synthetic\n",
    "\n",
    "    #randomly chose N times from k-neighbors to create N synthetic sampls\n",
    "    def __populate(self, N, i, nnarray):\n",
    "        for i in range(N):\n",
    "            nn = np.random.randint(0, self.k)\n",
    "            dif=self.samples[nnarray[nn]]-self.samples[i]    \n",
    "            #include index\n",
    "            gap=np.random.rand(1,self.n_attrs)\n",
    "            self.synthetic[self.new_index]=self.samples[i]+gap.flatten()*dif\n",
    "            self.new_index+=1"
   ]
  }
 ],
 "metadata": {
  "kernelspec": {
   "display_name": "Python 3",
   "language": "python",
   "name": "python3"
  },
  "language_info": {
   "codemirror_mode": {
    "name": "ipython",
    "version": 3
   },
   "file_extension": ".py",
   "mimetype": "text/x-python",
   "name": "python",
   "nbconvert_exporter": "python",
   "pygments_lexer": "ipython3",
   "version": "3.6.5"
  }
 },
 "nbformat": 4,
 "nbformat_minor": 2
}
